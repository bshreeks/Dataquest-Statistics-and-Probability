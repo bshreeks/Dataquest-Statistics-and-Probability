{
 "cells": [
  {
   "cell_type": "markdown",
   "metadata": {
    "collapsed": true
   },
   "source": [
    "# Answering Jeoperdy Questions to Win Money"
   ]
  },
  {
   "cell_type": "markdown",
   "metadata": {},
   "source": [
    "## 1. Introduction"
   ]
  },
  {
   "cell_type": "markdown",
   "metadata": {
    "collapsed": true
   },
   "source": [
    "`Jeopardy` is a popular TV show in the US where participants answer questions to win money. \n",
    "\n",
    "**In this project we are going to work with a dataset of Jeopardy questions to figure out some patterns in the questions that could help win money.**\n",
    "\n",
    "The dataset called `jeopardy.csv` contains *20000* rows. This dataset can be downloaded here __[GeopardyDataset](https://www.reddit.com/r/datasets/comments/1uyd0t/200000_jeopardy_questions_in_a_json_file/)__."
   ]
  },
  {
   "cell_type": "code",
   "execution_count": 1,
   "metadata": {
    "collapsed": true
   },
   "outputs": [],
   "source": [
    "#import necessary modules\n",
    "\n",
    "import numpy as np\n",
    "import pandas as pd\n",
    "import re\n",
    "import random\n",
    "from scipy.stats import chisquare"
   ]
  },
  {
   "cell_type": "code",
   "execution_count": 2,
   "metadata": {
    "scrolled": true
   },
   "outputs": [
    {
     "data": {
      "text/html": [
       "<div>\n",
       "<style scoped>\n",
       "    .dataframe tbody tr th:only-of-type {\n",
       "        vertical-align: middle;\n",
       "    }\n",
       "\n",
       "    .dataframe tbody tr th {\n",
       "        vertical-align: top;\n",
       "    }\n",
       "\n",
       "    .dataframe thead th {\n",
       "        text-align: right;\n",
       "    }\n",
       "</style>\n",
       "<table border=\"1\" class=\"dataframe\">\n",
       "  <thead>\n",
       "    <tr style=\"text-align: right;\">\n",
       "      <th></th>\n",
       "      <th>Show Number</th>\n",
       "      <th>Air Date</th>\n",
       "      <th>Round</th>\n",
       "      <th>Category</th>\n",
       "      <th>Value</th>\n",
       "      <th>Question</th>\n",
       "      <th>Answer</th>\n",
       "    </tr>\n",
       "  </thead>\n",
       "  <tbody>\n",
       "    <tr>\n",
       "      <th>0</th>\n",
       "      <td>4680</td>\n",
       "      <td>2004-12-31</td>\n",
       "      <td>Jeopardy!</td>\n",
       "      <td>HISTORY</td>\n",
       "      <td>$200</td>\n",
       "      <td>For the last 8 years of his life, Galileo was ...</td>\n",
       "      <td>Copernicus</td>\n",
       "    </tr>\n",
       "    <tr>\n",
       "      <th>1</th>\n",
       "      <td>4680</td>\n",
       "      <td>2004-12-31</td>\n",
       "      <td>Jeopardy!</td>\n",
       "      <td>ESPN's TOP 10 ALL-TIME ATHLETES</td>\n",
       "      <td>$200</td>\n",
       "      <td>No. 2: 1912 Olympian; football star at Carlisl...</td>\n",
       "      <td>Jim Thorpe</td>\n",
       "    </tr>\n",
       "    <tr>\n",
       "      <th>2</th>\n",
       "      <td>4680</td>\n",
       "      <td>2004-12-31</td>\n",
       "      <td>Jeopardy!</td>\n",
       "      <td>EVERYBODY TALKS ABOUT IT...</td>\n",
       "      <td>$200</td>\n",
       "      <td>The city of Yuma in this state has a record av...</td>\n",
       "      <td>Arizona</td>\n",
       "    </tr>\n",
       "    <tr>\n",
       "      <th>3</th>\n",
       "      <td>4680</td>\n",
       "      <td>2004-12-31</td>\n",
       "      <td>Jeopardy!</td>\n",
       "      <td>THE COMPANY LINE</td>\n",
       "      <td>$200</td>\n",
       "      <td>In 1963, live on \"The Art Linkletter Show\", th...</td>\n",
       "      <td>McDonald's</td>\n",
       "    </tr>\n",
       "    <tr>\n",
       "      <th>4</th>\n",
       "      <td>4680</td>\n",
       "      <td>2004-12-31</td>\n",
       "      <td>Jeopardy!</td>\n",
       "      <td>EPITAPHS &amp; TRIBUTES</td>\n",
       "      <td>$200</td>\n",
       "      <td>Signer of the Dec. of Indep., framer of the Co...</td>\n",
       "      <td>John Adams</td>\n",
       "    </tr>\n",
       "  </tbody>\n",
       "</table>\n",
       "</div>"
      ],
      "text/plain": [
       "   Show Number    Air Date      Round                         Category  Value  \\\n",
       "0         4680  2004-12-31  Jeopardy!                          HISTORY   $200   \n",
       "1         4680  2004-12-31  Jeopardy!  ESPN's TOP 10 ALL-TIME ATHLETES   $200   \n",
       "2         4680  2004-12-31  Jeopardy!      EVERYBODY TALKS ABOUT IT...   $200   \n",
       "3         4680  2004-12-31  Jeopardy!                 THE COMPANY LINE   $200   \n",
       "4         4680  2004-12-31  Jeopardy!              EPITAPHS & TRIBUTES   $200   \n",
       "\n",
       "                                            Question      Answer  \n",
       "0  For the last 8 years of his life, Galileo was ...  Copernicus  \n",
       "1  No. 2: 1912 Olympian; football star at Carlisl...  Jim Thorpe  \n",
       "2  The city of Yuma in this state has a record av...     Arizona  \n",
       "3  In 1963, live on \"The Art Linkletter Show\", th...  McDonald's  \n",
       "4  Signer of the Dec. of Indep., framer of the Co...  John Adams  "
      ]
     },
     "execution_count": 2,
     "metadata": {},
     "output_type": "execute_result"
    }
   ],
   "source": [
    "#reading the dataset\n",
    "jeopardy = pd.read_csv('jeopardy.csv')\n",
    "jeopardy.head()"
   ]
  },
  {
   "cell_type": "markdown",
   "metadata": {},
   "source": [
    "Jeopardy is a dataset with *7* columns. Let's take a look at just the column names."
   ]
  },
  {
   "cell_type": "code",
   "execution_count": 3,
   "metadata": {},
   "outputs": [
    {
     "data": {
      "text/plain": [
       "Index(['Show Number', ' Air Date', ' Round', ' Category', ' Value',\n",
       "       ' Question', ' Answer'],\n",
       "      dtype='object')"
      ]
     },
     "execution_count": 3,
     "metadata": {},
     "output_type": "execute_result"
    }
   ],
   "source": [
    "jeopardy.columns"
   ]
  },
  {
   "cell_type": "markdown",
   "metadata": {},
   "source": [
    "As we can see above, column names have spaces at the beginning. Let us fix it by getting rid of these sapces before moving forward."
   ]
  },
  {
   "cell_type": "code",
   "execution_count": 4,
   "metadata": {},
   "outputs": [
    {
     "data": {
      "text/plain": [
       "Index(['Show Number', 'Air Date', 'Round', 'Category', 'Value', 'Question',\n",
       "       'Answer'],\n",
       "      dtype='object')"
      ]
     },
     "execution_count": 4,
     "metadata": {},
     "output_type": "execute_result"
    }
   ],
   "source": [
    "jeopardy.columns = jeopardy.columns.str.strip()\n",
    "jeopardy.columns"
   ]
  },
  {
   "cell_type": "markdown",
   "metadata": {},
   "source": [
    "We are ready to move forward with needful analysis."
   ]
  },
  {
   "cell_type": "markdown",
   "metadata": {},
   "source": [
    "## 2. Normalizing the Text Columns"
   ]
  },
  {
   "cell_type": "markdown",
   "metadata": {
    "collapsed": true
   },
   "source": [
    "In this section we are going to normalize the columns *Questions* and *Answer*. We do this by writing a function called `Normalize`, which \n",
    "\n",
    " * Takes the string in\n",
    " * Converts the string to a lower case\n",
    " * Removes all the punctuation in the string\n",
    " * Returns the string"
   ]
  },
  {
   "cell_type": "code",
   "execution_count": 5,
   "metadata": {},
   "outputs": [],
   "source": [
    "def Normalize(text):\n",
    "        text = text.lower()\n",
    "        text = re.sub(r\"[^\\w\\s]\", \"\", text)\n",
    "        text = re.sub(r\"[_]\", \"\", text)\n",
    "        return text  "
   ]
  },
  {
   "cell_type": "code",
   "execution_count": 6,
   "metadata": {},
   "outputs": [],
   "source": [
    "jeopardy['clean_answer'] = jeopardy['Answer'].apply(Normalize)\n",
    "jeopardy['clean_question'] = jeopardy['Question'].apply(Normalize)"
   ]
  },
  {
   "cell_type": "markdown",
   "metadata": {},
   "source": [
    "We normalized the columns *Question* and *Answer* and renamed the normalized columns as *clean_question* and *clean_answer* respectively."
   ]
  },
  {
   "cell_type": "code",
   "execution_count": 7,
   "metadata": {},
   "outputs": [
    {
     "data": {
      "text/html": [
       "<div>\n",
       "<style scoped>\n",
       "    .dataframe tbody tr th:only-of-type {\n",
       "        vertical-align: middle;\n",
       "    }\n",
       "\n",
       "    .dataframe tbody tr th {\n",
       "        vertical-align: top;\n",
       "    }\n",
       "\n",
       "    .dataframe thead th {\n",
       "        text-align: right;\n",
       "    }\n",
       "</style>\n",
       "<table border=\"1\" class=\"dataframe\">\n",
       "  <thead>\n",
       "    <tr style=\"text-align: right;\">\n",
       "      <th></th>\n",
       "      <th>Show Number</th>\n",
       "      <th>Air Date</th>\n",
       "      <th>Round</th>\n",
       "      <th>Category</th>\n",
       "      <th>Value</th>\n",
       "      <th>Question</th>\n",
       "      <th>Answer</th>\n",
       "      <th>clean_answer</th>\n",
       "      <th>clean_question</th>\n",
       "    </tr>\n",
       "  </thead>\n",
       "  <tbody>\n",
       "    <tr>\n",
       "      <th>0</th>\n",
       "      <td>4680</td>\n",
       "      <td>2004-12-31</td>\n",
       "      <td>Jeopardy!</td>\n",
       "      <td>HISTORY</td>\n",
       "      <td>$200</td>\n",
       "      <td>For the last 8 years of his life, Galileo was ...</td>\n",
       "      <td>Copernicus</td>\n",
       "      <td>copernicus</td>\n",
       "      <td>for the last 8 years of his life galileo was u...</td>\n",
       "    </tr>\n",
       "    <tr>\n",
       "      <th>1</th>\n",
       "      <td>4680</td>\n",
       "      <td>2004-12-31</td>\n",
       "      <td>Jeopardy!</td>\n",
       "      <td>ESPN's TOP 10 ALL-TIME ATHLETES</td>\n",
       "      <td>$200</td>\n",
       "      <td>No. 2: 1912 Olympian; football star at Carlisl...</td>\n",
       "      <td>Jim Thorpe</td>\n",
       "      <td>jim thorpe</td>\n",
       "      <td>no 2 1912 olympian football star at carlisle i...</td>\n",
       "    </tr>\n",
       "    <tr>\n",
       "      <th>2</th>\n",
       "      <td>4680</td>\n",
       "      <td>2004-12-31</td>\n",
       "      <td>Jeopardy!</td>\n",
       "      <td>EVERYBODY TALKS ABOUT IT...</td>\n",
       "      <td>$200</td>\n",
       "      <td>The city of Yuma in this state has a record av...</td>\n",
       "      <td>Arizona</td>\n",
       "      <td>arizona</td>\n",
       "      <td>the city of yuma in this state has a record av...</td>\n",
       "    </tr>\n",
       "    <tr>\n",
       "      <th>3</th>\n",
       "      <td>4680</td>\n",
       "      <td>2004-12-31</td>\n",
       "      <td>Jeopardy!</td>\n",
       "      <td>THE COMPANY LINE</td>\n",
       "      <td>$200</td>\n",
       "      <td>In 1963, live on \"The Art Linkletter Show\", th...</td>\n",
       "      <td>McDonald's</td>\n",
       "      <td>mcdonalds</td>\n",
       "      <td>in 1963 live on the art linkletter show this c...</td>\n",
       "    </tr>\n",
       "    <tr>\n",
       "      <th>4</th>\n",
       "      <td>4680</td>\n",
       "      <td>2004-12-31</td>\n",
       "      <td>Jeopardy!</td>\n",
       "      <td>EPITAPHS &amp; TRIBUTES</td>\n",
       "      <td>$200</td>\n",
       "      <td>Signer of the Dec. of Indep., framer of the Co...</td>\n",
       "      <td>John Adams</td>\n",
       "      <td>john adams</td>\n",
       "      <td>signer of the dec of indep framer of the const...</td>\n",
       "    </tr>\n",
       "  </tbody>\n",
       "</table>\n",
       "</div>"
      ],
      "text/plain": [
       "   Show Number    Air Date      Round                         Category Value  \\\n",
       "0         4680  2004-12-31  Jeopardy!                          HISTORY  $200   \n",
       "1         4680  2004-12-31  Jeopardy!  ESPN's TOP 10 ALL-TIME ATHLETES  $200   \n",
       "2         4680  2004-12-31  Jeopardy!      EVERYBODY TALKS ABOUT IT...  $200   \n",
       "3         4680  2004-12-31  Jeopardy!                 THE COMPANY LINE  $200   \n",
       "4         4680  2004-12-31  Jeopardy!              EPITAPHS & TRIBUTES  $200   \n",
       "\n",
       "                                            Question      Answer clean_answer  \\\n",
       "0  For the last 8 years of his life, Galileo was ...  Copernicus   copernicus   \n",
       "1  No. 2: 1912 Olympian; football star at Carlisl...  Jim Thorpe   jim thorpe   \n",
       "2  The city of Yuma in this state has a record av...     Arizona      arizona   \n",
       "3  In 1963, live on \"The Art Linkletter Show\", th...  McDonald's    mcdonalds   \n",
       "4  Signer of the Dec. of Indep., framer of the Co...  John Adams   john adams   \n",
       "\n",
       "                                      clean_question  \n",
       "0  for the last 8 years of his life galileo was u...  \n",
       "1  no 2 1912 olympian football star at carlisle i...  \n",
       "2  the city of yuma in this state has a record av...  \n",
       "3  in 1963 live on the art linkletter show this c...  \n",
       "4  signer of the dec of indep framer of the const...  "
      ]
     },
     "execution_count": 7,
     "metadata": {},
     "output_type": "execute_result"
    }
   ],
   "source": [
    "jeopardy.head()"
   ]
  },
  {
   "cell_type": "markdown",
   "metadata": {},
   "source": [
    "## 3. Normalizing the Non-Text Columns"
   ]
  },
  {
   "cell_type": "markdown",
   "metadata": {},
   "source": [
    "In this section we are going to normalize the non text columns `Value` and `Air Date`. \n",
    "\n",
    "We will convert the `Value` column's data into a *numeric type* and get rid of the *dollar sign* at the beginning of each value. For this we will build a function called `Normalize_int`, which \n",
    "\n",
    " * Takes in a string\n",
    " * Removes any punctuation\n",
    " * Converts it into an integer \n",
    " * If there's an error assigns `0`      \n",
    " * Returns an integer"
   ]
  },
  {
   "cell_type": "code",
   "execution_count": 8,
   "metadata": {},
   "outputs": [],
   "source": [
    "def Normalize_int(text):\n",
    "    text = re.sub(r\"[_\\W]\",'',text)\n",
    "    try:\n",
    "        text = int(text)\n",
    "    \n",
    "    except ValueError:\n",
    "        text = 0\n",
    "    return text"
   ]
  },
  {
   "cell_type": "markdown",
   "metadata": {},
   "source": [
    "We will apply the above function to the `Value` column and name the new column as `clean_value`. "
   ]
  },
  {
   "cell_type": "code",
   "execution_count": 9,
   "metadata": {},
   "outputs": [],
   "source": [
    "jeopardy['clean_value'] = jeopardy['Value'].apply(Normalize_int) "
   ]
  },
  {
   "cell_type": "markdown",
   "metadata": {},
   "source": [
    "We will also convert each value in `Air Date` column to *datetime* format. "
   ]
  },
  {
   "cell_type": "code",
   "execution_count": 10,
   "metadata": {
    "collapsed": true
   },
   "outputs": [],
   "source": [
    "jeopardy['Air Date'] = pd.to_datetime(jeopardy['Air Date'])"
   ]
  },
  {
   "cell_type": "code",
   "execution_count": 11,
   "metadata": {},
   "outputs": [
    {
     "data": {
      "text/html": [
       "<div>\n",
       "<style scoped>\n",
       "    .dataframe tbody tr th:only-of-type {\n",
       "        vertical-align: middle;\n",
       "    }\n",
       "\n",
       "    .dataframe tbody tr th {\n",
       "        vertical-align: top;\n",
       "    }\n",
       "\n",
       "    .dataframe thead th {\n",
       "        text-align: right;\n",
       "    }\n",
       "</style>\n",
       "<table border=\"1\" class=\"dataframe\">\n",
       "  <thead>\n",
       "    <tr style=\"text-align: right;\">\n",
       "      <th></th>\n",
       "      <th>Show Number</th>\n",
       "      <th>Air Date</th>\n",
       "      <th>Round</th>\n",
       "      <th>Category</th>\n",
       "      <th>Value</th>\n",
       "      <th>Question</th>\n",
       "      <th>Answer</th>\n",
       "      <th>clean_answer</th>\n",
       "      <th>clean_question</th>\n",
       "      <th>clean_value</th>\n",
       "    </tr>\n",
       "  </thead>\n",
       "  <tbody>\n",
       "    <tr>\n",
       "      <th>0</th>\n",
       "      <td>4680</td>\n",
       "      <td>2004-12-31</td>\n",
       "      <td>Jeopardy!</td>\n",
       "      <td>HISTORY</td>\n",
       "      <td>$200</td>\n",
       "      <td>For the last 8 years of his life, Galileo was ...</td>\n",
       "      <td>Copernicus</td>\n",
       "      <td>copernicus</td>\n",
       "      <td>for the last 8 years of his life galileo was u...</td>\n",
       "      <td>200</td>\n",
       "    </tr>\n",
       "    <tr>\n",
       "      <th>1</th>\n",
       "      <td>4680</td>\n",
       "      <td>2004-12-31</td>\n",
       "      <td>Jeopardy!</td>\n",
       "      <td>ESPN's TOP 10 ALL-TIME ATHLETES</td>\n",
       "      <td>$200</td>\n",
       "      <td>No. 2: 1912 Olympian; football star at Carlisl...</td>\n",
       "      <td>Jim Thorpe</td>\n",
       "      <td>jim thorpe</td>\n",
       "      <td>no 2 1912 olympian football star at carlisle i...</td>\n",
       "      <td>200</td>\n",
       "    </tr>\n",
       "    <tr>\n",
       "      <th>2</th>\n",
       "      <td>4680</td>\n",
       "      <td>2004-12-31</td>\n",
       "      <td>Jeopardy!</td>\n",
       "      <td>EVERYBODY TALKS ABOUT IT...</td>\n",
       "      <td>$200</td>\n",
       "      <td>The city of Yuma in this state has a record av...</td>\n",
       "      <td>Arizona</td>\n",
       "      <td>arizona</td>\n",
       "      <td>the city of yuma in this state has a record av...</td>\n",
       "      <td>200</td>\n",
       "    </tr>\n",
       "    <tr>\n",
       "      <th>3</th>\n",
       "      <td>4680</td>\n",
       "      <td>2004-12-31</td>\n",
       "      <td>Jeopardy!</td>\n",
       "      <td>THE COMPANY LINE</td>\n",
       "      <td>$200</td>\n",
       "      <td>In 1963, live on \"The Art Linkletter Show\", th...</td>\n",
       "      <td>McDonald's</td>\n",
       "      <td>mcdonalds</td>\n",
       "      <td>in 1963 live on the art linkletter show this c...</td>\n",
       "      <td>200</td>\n",
       "    </tr>\n",
       "    <tr>\n",
       "      <th>4</th>\n",
       "      <td>4680</td>\n",
       "      <td>2004-12-31</td>\n",
       "      <td>Jeopardy!</td>\n",
       "      <td>EPITAPHS &amp; TRIBUTES</td>\n",
       "      <td>$200</td>\n",
       "      <td>Signer of the Dec. of Indep., framer of the Co...</td>\n",
       "      <td>John Adams</td>\n",
       "      <td>john adams</td>\n",
       "      <td>signer of the dec of indep framer of the const...</td>\n",
       "      <td>200</td>\n",
       "    </tr>\n",
       "  </tbody>\n",
       "</table>\n",
       "</div>"
      ],
      "text/plain": [
       "   Show Number   Air Date      Round                         Category Value  \\\n",
       "0         4680 2004-12-31  Jeopardy!                          HISTORY  $200   \n",
       "1         4680 2004-12-31  Jeopardy!  ESPN's TOP 10 ALL-TIME ATHLETES  $200   \n",
       "2         4680 2004-12-31  Jeopardy!      EVERYBODY TALKS ABOUT IT...  $200   \n",
       "3         4680 2004-12-31  Jeopardy!                 THE COMPANY LINE  $200   \n",
       "4         4680 2004-12-31  Jeopardy!              EPITAPHS & TRIBUTES  $200   \n",
       "\n",
       "                                            Question      Answer clean_answer  \\\n",
       "0  For the last 8 years of his life, Galileo was ...  Copernicus   copernicus   \n",
       "1  No. 2: 1912 Olympian; football star at Carlisl...  Jim Thorpe   jim thorpe   \n",
       "2  The city of Yuma in this state has a record av...     Arizona      arizona   \n",
       "3  In 1963, live on \"The Art Linkletter Show\", th...  McDonald's    mcdonalds   \n",
       "4  Signer of the Dec. of Indep., framer of the Co...  John Adams   john adams   \n",
       "\n",
       "                                      clean_question  clean_value  \n",
       "0  for the last 8 years of his life galileo was u...          200  \n",
       "1  no 2 1912 olympian football star at carlisle i...          200  \n",
       "2  the city of yuma in this state has a record av...          200  \n",
       "3  in 1963 live on the art linkletter show this c...          200  \n",
       "4  signer of the dec of indep framer of the const...          200  "
      ]
     },
     "execution_count": 11,
     "metadata": {},
     "output_type": "execute_result"
    }
   ],
   "source": [
    "jeopardy.head()"
   ]
  },
  {
   "cell_type": "code",
   "execution_count": 12,
   "metadata": {},
   "outputs": [
    {
     "name": "stdout",
     "output_type": "stream",
     "text": [
      "<class 'pandas.core.frame.DataFrame'>\n",
      "RangeIndex: 19999 entries, 0 to 19998\n",
      "Data columns (total 10 columns):\n",
      "Show Number       19999 non-null int64\n",
      "Air Date          19999 non-null datetime64[ns]\n",
      "Round             19999 non-null object\n",
      "Category          19999 non-null object\n",
      "Value             19999 non-null object\n",
      "Question          19999 non-null object\n",
      "Answer            19999 non-null object\n",
      "clean_answer      19999 non-null object\n",
      "clean_question    19999 non-null object\n",
      "clean_value       19999 non-null int64\n",
      "dtypes: datetime64[ns](1), int64(2), object(7)\n",
      "memory usage: 1.5+ MB\n"
     ]
    }
   ],
   "source": [
    "jeopardy.info()"
   ]
  },
  {
   "cell_type": "markdown",
   "metadata": {},
   "source": [
    "From the above table we can see that we have successfully achieved our objective.  "
   ]
  },
  {
   "cell_type": "markdown",
   "metadata": {},
   "source": [
    "## 4. Examining Answers in Questions"
   ]
  },
  {
   "cell_type": "markdown",
   "metadata": {
    "collapsed": true
   },
   "source": [
    "In order to find out whether to study past questions from *Jeopardy*, we need to figure out two things:\n",
    "    \n",
    " - How often the answer can be used for a question - this we perform by seeing how many times words in answer also occur in the question.\n",
    " - How often questions are repeated - this we find out by seeing how often complex words (>6 characters) reoccur. "
   ]
  },
  {
   "cell_type": "markdown",
   "metadata": {},
   "source": [
    "In this section we are going to find out `how often the answer can be used for a question`. \n",
    "\n",
    "For this we create a function called *answer_in_question*, which\n",
    "\n",
    " - takes a row in jeopardy, splits the *clean_answer* and *clean_question* and assign them to variables *split_answer* & *split_question* respectively.\n",
    " - loops through each item in *split_answer* and checks if it also exists in *split_question*. If it does assiging *1* to a variable called *match_count*.\n",
    " - returns *match_count* divided by *length of split_answer*."
   ]
  },
  {
   "cell_type": "code",
   "execution_count": 13,
   "metadata": {},
   "outputs": [],
   "source": [
    "def answer_in_question(row):\n",
    "    \n",
    "    #split each row and assign to a variable\n",
    "    split_answer = row['clean_answer'].split(\" \")\n",
    "    split_question = row['clean_question'].split(\" \")\n",
    "    \n",
    "    #assign 0 to a variable match_count\n",
    "    match_count = 0\n",
    "    \n",
    "    #get rid of 'the' as it doesn't give any meaning\n",
    "    if \"the\" in split_answer:\n",
    "        split_answer.remove(\"the\")\n",
    "    \n",
    "    #if length of split_answer is 0 return 0 to prevent division by 0\n",
    "    if len(split_answer) == 0:\n",
    "        return 0\n",
    "    \n",
    "    #if item exists both in split_answer & split_question add 1 to match_count\n",
    "    for item in split_answer:\n",
    "        if item in split_question:\n",
    "            match_count += 1\n",
    "    \n",
    "    #divide match_count by length of split_answer\n",
    "    result = match_count/len(split_answer) \n",
    "            \n",
    "    return result    "
   ]
  },
  {
   "cell_type": "markdown",
   "metadata": {},
   "source": [
    "Using pandas *dataframe.apply()* method, we will apply the above function to each row in `jeopardy`. We will assign the result to a new column called `answer_in_question`."
   ]
  },
  {
   "cell_type": "code",
   "execution_count": 14,
   "metadata": {
    "scrolled": true
   },
   "outputs": [],
   "source": [
    "jeopardy['answer_in_question'] = jeopardy.apply(answer_in_question, axis=1)"
   ]
  },
  {
   "cell_type": "markdown",
   "metadata": {},
   "source": [
    "Below we calculate *mean* for *answer_in_question* column in order to understand *the percentage of answers in questions* for *Jeopardy*."
   ]
  },
  {
   "cell_type": "code",
   "execution_count": 15,
   "metadata": {},
   "outputs": [
    {
     "data": {
      "text/plain": [
       "0.06049325706933587"
      ]
     },
     "execution_count": 15,
     "metadata": {},
     "output_type": "execute_result"
    }
   ],
   "source": [
    "Mean = jeopardy['answer_in_question'].mean()\n",
    "Mean"
   ]
  },
  {
   "cell_type": "markdown",
   "metadata": {},
   "source": [
    "We found that on an average `6%` of terms in answers are found in questions. So we think that relying soley on this strategy may not be effective for `jeopardy` preparation."
   ]
  },
  {
   "cell_type": "markdown",
   "metadata": {},
   "source": [
    "## 5. Examining the Recycled/Repeated Questions"
   ]
  },
  {
   "cell_type": "markdown",
   "metadata": {
    "collapsed": true
   },
   "source": [
    "In this section we address the latter point of the two things we mentioned in the earlier section. i.e. `how often the questions are repeated`. In order to achieve our objetive, we perform the following:\n",
    "\n",
    " * Sorting the dataset in an ascending order of `Air Date` column.\n",
    " * Create an empty set called `terms_used`.\n",
    " * Split the `clean_question` column and remove words that are less than `6` character long (this helps filter out the words like *the*, *than* etc.).\n",
    " * Add each word to `terms_used`.\n",
    " * If a word reoccurs in `terms_used`, increment a counter.\n",
    " * divide the *counts* by *length of split_question* and append this to an empty list `question_overlap`."
   ]
  },
  {
   "cell_type": "code",
   "execution_count": 16,
   "metadata": {},
   "outputs": [],
   "source": [
    "question_overlap = []\n",
    "\n",
    "terms_used = set()\n",
    "\n",
    "jeopardy = jeopardy.sort_values(by= 'Air Date')\n",
    "\n",
    "for index, row in jeopardy.iterrows():\n",
    "    split_question = row['clean_question'].split(\" \")\n",
    "    split_question = [terms for terms in split_question if len(terms)>5]\n",
    "    \n",
    "    match_count = 0\n",
    "    \n",
    "    for word in split_question:\n",
    "        if word in terms_used:\n",
    "            match_count += 1\n",
    "            \n",
    "        terms_used.add(word)\n",
    "        \n",
    "        if len(split_question) > 0:\n",
    "            result = match_count / len(split_question)\n",
    "            question_overlap.append(result)\n",
    "            \n",
    "jeopardy['question_overlap'] = [question_overlap[i] for i in range(len(jeopardy))]"
   ]
  },
  {
   "cell_type": "markdown",
   "metadata": {},
   "source": [
    "We have added a column called `question_overlap` to the dataset `jeopardy`. Let us calculate the mean for this column. This value estimates average value of terms used in questions.  "
   ]
  },
  {
   "cell_type": "code",
   "execution_count": 17,
   "metadata": {},
   "outputs": [
    {
     "data": {
      "text/plain": [
       "0.34281494433252024"
      ]
     },
     "execution_count": 17,
     "metadata": {},
     "output_type": "execute_result"
    }
   ],
   "source": [
    "Mean_question_overlap = jeopardy['question_overlap'].mean()\n",
    "Mean_question_overlap"
   ]
  },
  {
   "cell_type": "markdown",
   "metadata": {},
   "source": [
    "We found that `~34%` of terms in questions are recycled/repeated. The set we are working with is only *10%* of the full *Jeopardy* question dataset. Still we think that studying past questions might be an effective strategy for `jeopardy` preparation."
   ]
  },
  {
   "cell_type": "markdown",
   "metadata": {},
   "source": [
    "## 6. Examining the Low Value and High Value Questions"
   ]
  },
  {
   "cell_type": "markdown",
   "metadata": {
    "collapsed": true
   },
   "source": [
    "In order to earn more money in `jeopardy`, studying *high value* questions instead of *low value* questions is a wise strategy. In a given row of the dataset: \n",
    "\n",
    " - Low value question is one with value < 800.\n",
    " - High value questions is one with value > 800.\n",
    " \n",
    "For our analysis we follow these steps:\n",
    "\n",
    " * Loop through the terms from `terms_used` (which contains complex words from the `clean_question` column).\n",
    " * Calculate the number of *low value* and *high value* questions the word occurs in.\n",
    " * Calculate the percentage of questions the word occurs in.\n",
    " * Based on the percentage, calculate the *expected counts*.\n",
    " * Compute the `chi square value` based on the expected counts and the observed counts for high value and low value questions.\n",
    " \n",
    "Let us first build a function called *assign_value* that assigns value to the *clean_value* column of the dataframe. "
   ]
  },
  {
   "cell_type": "code",
   "execution_count": 18,
   "metadata": {},
   "outputs": [],
   "source": [
    "def assign_value(row):\n",
    "    if row['clean_value'] > 800:\n",
    "        return 1\n",
    "    else:\n",
    "        return 0        "
   ]
  },
  {
   "cell_type": "markdown",
   "metadata": {},
   "source": [
    "Let us apply the function to the *jeopardy* dataset. "
   ]
  },
  {
   "cell_type": "code",
   "execution_count": 19,
   "metadata": {},
   "outputs": [
    {
     "data": {
      "text/html": [
       "<div>\n",
       "<style scoped>\n",
       "    .dataframe tbody tr th:only-of-type {\n",
       "        vertical-align: middle;\n",
       "    }\n",
       "\n",
       "    .dataframe tbody tr th {\n",
       "        vertical-align: top;\n",
       "    }\n",
       "\n",
       "    .dataframe thead th {\n",
       "        text-align: right;\n",
       "    }\n",
       "</style>\n",
       "<table border=\"1\" class=\"dataframe\">\n",
       "  <thead>\n",
       "    <tr style=\"text-align: right;\">\n",
       "      <th></th>\n",
       "      <th>Show Number</th>\n",
       "      <th>Air Date</th>\n",
       "      <th>Round</th>\n",
       "      <th>Category</th>\n",
       "      <th>Value</th>\n",
       "      <th>Question</th>\n",
       "      <th>Answer</th>\n",
       "      <th>clean_answer</th>\n",
       "      <th>clean_question</th>\n",
       "      <th>clean_value</th>\n",
       "      <th>answer_in_question</th>\n",
       "      <th>question_overlap</th>\n",
       "      <th>high_value</th>\n",
       "    </tr>\n",
       "  </thead>\n",
       "  <tbody>\n",
       "    <tr>\n",
       "      <th>19325</th>\n",
       "      <td>10</td>\n",
       "      <td>1984-09-21</td>\n",
       "      <td>Final Jeopardy!</td>\n",
       "      <td>U.S. PRESIDENTS</td>\n",
       "      <td>None</td>\n",
       "      <td>Adventurous 26th president, he was 1st to ride...</td>\n",
       "      <td>Theodore Roosevelt</td>\n",
       "      <td>theodore roosevelt</td>\n",
       "      <td>adventurous 26th president he was 1st to ride ...</td>\n",
       "      <td>0</td>\n",
       "      <td>0.000000</td>\n",
       "      <td>0.0</td>\n",
       "      <td>0</td>\n",
       "    </tr>\n",
       "    <tr>\n",
       "      <th>19301</th>\n",
       "      <td>10</td>\n",
       "      <td>1984-09-21</td>\n",
       "      <td>Double Jeopardy!</td>\n",
       "      <td>LABOR UNIONS</td>\n",
       "      <td>$200</td>\n",
       "      <td>Notorious labor leader missing since '75</td>\n",
       "      <td>Jimmy Hoffa</td>\n",
       "      <td>jimmy hoffa</td>\n",
       "      <td>notorious labor leader missing since 75</td>\n",
       "      <td>200</td>\n",
       "      <td>0.000000</td>\n",
       "      <td>0.0</td>\n",
       "      <td>0</td>\n",
       "    </tr>\n",
       "    <tr>\n",
       "      <th>19302</th>\n",
       "      <td>10</td>\n",
       "      <td>1984-09-21</td>\n",
       "      <td>Double Jeopardy!</td>\n",
       "      <td>1789</td>\n",
       "      <td>$200</td>\n",
       "      <td>Washington proclaimed Nov. 26, 1789 this first...</td>\n",
       "      <td>Thanksgiving</td>\n",
       "      <td>thanksgiving</td>\n",
       "      <td>washington proclaimed nov 26 1789 this first n...</td>\n",
       "      <td>200</td>\n",
       "      <td>0.000000</td>\n",
       "      <td>0.0</td>\n",
       "      <td>0</td>\n",
       "    </tr>\n",
       "    <tr>\n",
       "      <th>19303</th>\n",
       "      <td>10</td>\n",
       "      <td>1984-09-21</td>\n",
       "      <td>Double Jeopardy!</td>\n",
       "      <td>TOURIST TRAPS</td>\n",
       "      <td>$200</td>\n",
       "      <td>Both Ferde Grofe' &amp; the Colorado River dug thi...</td>\n",
       "      <td>the Grand Canyon</td>\n",
       "      <td>the grand canyon</td>\n",
       "      <td>both ferde grofe  the colorado river dug this ...</td>\n",
       "      <td>200</td>\n",
       "      <td>0.000000</td>\n",
       "      <td>0.0</td>\n",
       "      <td>0</td>\n",
       "    </tr>\n",
       "    <tr>\n",
       "      <th>19304</th>\n",
       "      <td>10</td>\n",
       "      <td>1984-09-21</td>\n",
       "      <td>Double Jeopardy!</td>\n",
       "      <td>LITERATURE</td>\n",
       "      <td>$200</td>\n",
       "      <td>Depending on the book, he could be a \"Jones\", ...</td>\n",
       "      <td>Tom</td>\n",
       "      <td>tom</td>\n",
       "      <td>depending on the book he could be a jones a sa...</td>\n",
       "      <td>200</td>\n",
       "      <td>0.000000</td>\n",
       "      <td>0.0</td>\n",
       "      <td>0</td>\n",
       "    </tr>\n",
       "    <tr>\n",
       "      <th>19305</th>\n",
       "      <td>10</td>\n",
       "      <td>1984-09-21</td>\n",
       "      <td>Double Jeopardy!</td>\n",
       "      <td>HOMONYMS</td>\n",
       "      <td>$200</td>\n",
       "      <td>Hindu hierarchy or a play's actors</td>\n",
       "      <td>a caste (cast)</td>\n",
       "      <td>a caste cast</td>\n",
       "      <td>hindu hierarchy or a plays actors</td>\n",
       "      <td>200</td>\n",
       "      <td>0.333333</td>\n",
       "      <td>0.0</td>\n",
       "      <td>0</td>\n",
       "    </tr>\n",
       "  </tbody>\n",
       "</table>\n",
       "</div>"
      ],
      "text/plain": [
       "       Show Number   Air Date             Round         Category Value  \\\n",
       "19325           10 1984-09-21   Final Jeopardy!  U.S. PRESIDENTS  None   \n",
       "19301           10 1984-09-21  Double Jeopardy!     LABOR UNIONS  $200   \n",
       "19302           10 1984-09-21  Double Jeopardy!             1789  $200   \n",
       "19303           10 1984-09-21  Double Jeopardy!    TOURIST TRAPS  $200   \n",
       "19304           10 1984-09-21  Double Jeopardy!       LITERATURE  $200   \n",
       "19305           10 1984-09-21  Double Jeopardy!         HOMONYMS  $200   \n",
       "\n",
       "                                                Question              Answer  \\\n",
       "19325  Adventurous 26th president, he was 1st to ride...  Theodore Roosevelt   \n",
       "19301           Notorious labor leader missing since '75         Jimmy Hoffa   \n",
       "19302  Washington proclaimed Nov. 26, 1789 this first...        Thanksgiving   \n",
       "19303  Both Ferde Grofe' & the Colorado River dug thi...    the Grand Canyon   \n",
       "19304  Depending on the book, he could be a \"Jones\", ...                 Tom   \n",
       "19305                 Hindu hierarchy or a play's actors      a caste (cast)   \n",
       "\n",
       "             clean_answer                                     clean_question  \\\n",
       "19325  theodore roosevelt  adventurous 26th president he was 1st to ride ...   \n",
       "19301         jimmy hoffa            notorious labor leader missing since 75   \n",
       "19302        thanksgiving  washington proclaimed nov 26 1789 this first n...   \n",
       "19303    the grand canyon  both ferde grofe  the colorado river dug this ...   \n",
       "19304                 tom  depending on the book he could be a jones a sa...   \n",
       "19305        a caste cast                  hindu hierarchy or a plays actors   \n",
       "\n",
       "       clean_value  answer_in_question  question_overlap  high_value  \n",
       "19325            0            0.000000               0.0           0  \n",
       "19301          200            0.000000               0.0           0  \n",
       "19302          200            0.000000               0.0           0  \n",
       "19303          200            0.000000               0.0           0  \n",
       "19304          200            0.000000               0.0           0  \n",
       "19305          200            0.333333               0.0           0  "
      ]
     },
     "execution_count": 19,
     "metadata": {},
     "output_type": "execute_result"
    }
   ],
   "source": [
    "jeopardy['high_value'] = jeopardy.apply(assign_value, axis=1)\n",
    "jeopardy.head(6)"
   ]
  },
  {
   "cell_type": "markdown",
   "metadata": {},
   "source": [
    "Further, we will build a function called `assign_count` that \n",
    "\n",
    " * Takes *word* as input. \n",
    " * Adds to the variables *high_count* or *low_count* (assigned 0 at the beginning) for the word in *clean_question* by checking if the word was assigned 1 in *high_value* or *low_value*. \n",
    " * Returns *high_count* and *low_count*. "
   ]
  },
  {
   "cell_type": "code",
   "execution_count": 20,
   "metadata": {},
   "outputs": [],
   "source": [
    "def assign_count(word):\n",
    "    low_count = 0\n",
    "    high_count = 0\n",
    "    \n",
    "    for index, row in jeopardy.iterrows():\n",
    "        split_question = row['clean_question'].split(\" \")\n",
    "        if word in split_question:\n",
    "            if row['high_value'] == 1:\n",
    "                high_count += 1\n",
    "            else:\n",
    "                low_count += 1\n",
    "                \n",
    "    return high_count, low_count     "
   ]
  },
  {
   "cell_type": "markdown",
   "metadata": {},
   "source": [
    "Let us now pick *10* random words from *terms_used* and apply *assign_word* function on those words and calculate the *high_count* and *low_count*. "
   ]
  },
  {
   "cell_type": "code",
   "execution_count": 21,
   "metadata": {
    "scrolled": true
   },
   "outputs": [
    {
     "name": "stdout",
     "output_type": "stream",
     "text": [
      "receives : (1, 1)\n",
      "arnold : (0, 4)\n",
      "stretched : (0, 4)\n",
      "defender : (1, 2)\n",
      "highest : (15, 45)\n",
      "gullet : (0, 1)\n",
      "contribution : (0, 2)\n",
      "giannini : (0, 1)\n",
      "ailuropoda : (0, 1)\n",
      "smothered : (0, 1)\n"
     ]
    }
   ],
   "source": [
    "# create a list of 10 random words from terms_used\n",
    "comparison_terms = random.sample(terms_used, k=10)\n",
    "comparison_terms= list(comparison_terms)\n",
    "\n",
    "#create an empty list\n",
    "observed_expected = []\n",
    "\n",
    "#apply the function and append to the empty list\n",
    "for term in comparison_terms:\n",
    "    observed_expected.append(assign_count(term))\n",
    "\n",
    "for i,j in zip(comparison_terms,observed_expected):\n",
    "    print(i,\":\", j)"
   ]
  },
  {
   "cell_type": "markdown",
   "metadata": {},
   "source": [
    "We have successfully calculated the `Observer Counts` (i.e. *the number of high value questions the word occurs in* and *the number of low value questions the word occurs in*) for *10* random words from *terms_used*."
   ]
  },
  {
   "cell_type": "markdown",
   "metadata": {},
   "source": [
    "## 7. Applying the Chi-squared Test"
   ]
  },
  {
   "cell_type": "markdown",
   "metadata": {},
   "source": [
    "In this section we are going to compute the `expected counts` and `chi-squared values` for the selected 10 words. In order to calculate *chi-squared value* and *p-value* we use `scipy.stats.chisquare` function."
   ]
  },
  {
   "cell_type": "code",
   "execution_count": 22,
   "metadata": {
    "scrolled": false
   },
   "outputs": [
    {
     "data": {
      "text/plain": [
       "[Power_divergenceResult(statistic=0.4448774816612795, pvalue=0.5047776487545996),\n",
       " Power_divergenceResult(statistic=1.607851384507536, pvalue=0.20479409439225948),\n",
       " Power_divergenceResult(statistic=1.607851384507536, pvalue=0.20479409439225948),\n",
       " Power_divergenceResult(statistic=0.03188116723440362, pvalue=0.8582887163235293),\n",
       " Power_divergenceResult(statistic=0.39546649626611535, pvalue=0.5294398839801588),\n",
       " Power_divergenceResult(statistic=0.401962846126884, pvalue=0.5260772985705469),\n",
       " Power_divergenceResult(statistic=0.803925692253768, pvalue=0.3699222378079571),\n",
       " Power_divergenceResult(statistic=0.401962846126884, pvalue=0.5260772985705469),\n",
       " Power_divergenceResult(statistic=0.401962846126884, pvalue=0.5260772985705469),\n",
       " Power_divergenceResult(statistic=0.401962846126884, pvalue=0.5260772985705469)]"
      ]
     },
     "execution_count": 22,
     "metadata": {},
     "output_type": "execute_result"
    }
   ],
   "source": [
    "#calculate the number of rows with 'high_value = 1' & 'high_value = 0'\n",
    "high_value_row = jeopardy[jeopardy['high_value']==1]\n",
    "low_value_row = jeopardy[jeopardy['high_value']==0]\n",
    "\n",
    "high_value_count = len(high_value_row)\n",
    "low_value_count = len(low_value_row)\n",
    "\n",
    "#create an empty list\n",
    "chi_squared = []\n",
    "\n",
    "#loop through each list in observed_expected\n",
    "for values in observed_expected:\n",
    "    #add the values to get total sum\n",
    "    total = sum(values)     \n",
    "    \n",
    "    #get the total proportion\n",
    "    total_prop = total / len(jeopardy) \n",
    "    \n",
    "    #calculate expected high value count\n",
    "    expected_high_value_count = total_prop * high_value_count\n",
    "    \n",
    "    #calcute expected low value count\n",
    "    expected_low_value_count = total_prop * low_value_count\n",
    "    \n",
    "    expected = np.array([expected_high_value_count, expected_low_value_count])\n",
    "    observed = np.array([values[0], values[1]])\n",
    "    \n",
    "    #calculate chisquare value using expected & observed arrays\n",
    "    chi_squared.append(chisquare(observed, expected))\n",
    "    \n",
    "chi_squared"
   ]
  },
  {
   "cell_type": "markdown",
   "metadata": {},
   "source": [
    "The above list shows the *chisquare values* and *p-values* for *10* randomly selected words from a list of complex words. In general if the `p-value is < 0.05`, we say the `it is statistically significant` (suggesting that there is less than a 5% chance that the observed results occurred by random chance and we can reject the null-hypothesis) and if the `p-value is > 0.05`, we say that the `it is statistically insignificant`(meaning there is not enough evidence to reject the null hypothesis). In here we observed that  for words if *high_value_counts* are higher than *low_value_counts*,(i.e. if the number of high value questions the word occurs in is greater than the number of low value questions the word occurs in) we get a p-value < 0.05. We observed that such words are rare in the list of *10* complex words.  \n",
    "\n",
    "We can follow two strategies inorder to overcome this problem:\n",
    "\n",
    " 1. Get rid of the words that occur in more than a certain percentage (eg. 5%) of questions in order to eliminate non-informative words.\n",
    " 2. Performing chi-squared test across more terms."
   ]
  },
  {
   "cell_type": "markdown",
   "metadata": {},
   "source": [
    "## Conclusions"
   ]
  },
  {
   "cell_type": "markdown",
   "metadata": {
    "collapsed": true
   },
   "source": [
    "Our objective in this project was to work with the dataset of `Jeopardy` questions (*Jeopardy* is a popular TV show in the US where participants answer questions to win money). We did this in order to figure out some patterns in the questions that could help us win money. The dataset had *20000* rows and seven columns. \n",
    "\n",
    "**Datacleaning:** We performed datacleaning\n",
    "\n",
    " 1. On *Questions* and *Answers* columns by getting rid of *punctuations* and converting the strings to *lower case*.   \n",
    " 2. On *Value* column by getting rid of the dollar sign and converting each column value into numeric type.\n",
    " 3. By converting *Air Date* column values to datetime format.\n",
    " \n",
    "**In order to find out whether to study past questions, we performed following two analysis:**\n",
    "\n",
    "1. We studied how often the answer can be used for a question by seeing how many times words in answer also occur in the question.\n",
    "   * We found that this strategy is not effective as our analysis resulted in only *6%* of terms in answers found in questions. \n",
    "2. We studied how often questions are repeated. This we found out by seeing how often complex words (>6 characters) reoccur.\n",
    "   * We found that close to *34%* of the terms in questions are repeated. We think that studying past questions might be a usefule strategy.\n",
    "   \n",
    "**In order to earn more money we analysed *high value questions (>800)* and *low value questions (\\<800)*:**\n",
    " \n",
    " - For the purpose we built a function that takes in a word from a *clean_question* column and adds to either *high value counts* or *low value counts* by checking the value of the word and returns the *high count* and *low count*. These counts, we termed them as an `observer counts`.\n",
    " - Using *observer counts*, we calculated *expected counts* for *high value counts* and *low value counts*. Then using *scipy.stats.chisquare* we calculated `chisquare value` and `p-value` for randomly selected *10* words.\n",
    "    * We observed that rarely a p-value is < 0.05, implying there are not many words with *high value count* among 10 randomly selected words.\n",
    "    \n",
    "We conclude that either by increasing the number of randomly selected words or by eliminating non-informative words we can get better results. "
   ]
  }
 ],
 "metadata": {
  "kernelspec": {
   "display_name": "Python 3 (ipykernel)",
   "language": "python",
   "name": "python3"
  },
  "language_info": {
   "codemirror_mode": {
    "name": "ipython",
    "version": 3
   },
   "file_extension": ".py",
   "mimetype": "text/x-python",
   "name": "python",
   "nbconvert_exporter": "python",
   "pygments_lexer": "ipython3",
   "version": "3.9.13"
  }
 },
 "nbformat": 4,
 "nbformat_minor": 1
}
